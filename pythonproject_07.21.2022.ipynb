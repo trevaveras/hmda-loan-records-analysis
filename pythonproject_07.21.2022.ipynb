{
 "cells": [
  {
   "cell_type": "markdown",
   "metadata": {},
   "source": [
    "#### July 21, 2022\n",
    "### HMDA analysis via:\n",
    "#### Source: 2021 National Loan Level Dataset from the Consumer Financial Protection Bureau of the  Federal Financial Institution Examination Council, per the Home Mortgage Disclosure Act of 1975\n",
    "https://ffiec.cfpb.gov/data-publication/snapshot-national-loan-level-dataset/2021)\n",
    "\n",
    "\n",
    "\n",
    "helpful source from medium: https://imitra14.medium.com/racial-discrimination-in-the-mortgage-market-insights-from-data-ba24d5f0bacf\n",
    "\n",
    "background info from NCRC: \n",
    "(1) https://www.ncrc.org/initial-analysis-of-2021-hmda-data-the-year-that-homes-became-atms-again/\n",
    "(2) https://ncrc.org/2020-hmda-preliminary-analysis/\n",
    "\n",
    "\n",
    "\n",
    "#### deep dive report: https://files.consumerfinance.gov/f/documents/cfpb_new-revised-data-points-in-hmda_report.pdf\n",
    "#### understanding a covered loan, and the scope of transaction data: https://files.consumerfinance.gov/f/documents/cfpb_2022-hmda-transactional-coverage.pdf\n",
    "#### brief from Urban https://www.urban.org/urban-wire/what-different-denial-rates-can-tell-us-about-racial-disparities-mortgage-market\n",
    "\n",
    "*Very interesting ML project on approvals/denials by race and other characteristics: https://q-shick.github.io/portfolio/proj_hmda.html"
   ]
  },
  {
   "cell_type": "code",
   "execution_count": 846,
   "metadata": {},
   "outputs": [],
   "source": [
    "import numpy as np\n",
    "import pandas as pd\n",
    "import re\n",
    "import random\n",
    "from matplotlib import pyplot as plt\n",
    "pd.set_option('display.max_columns', 100)\n",
    "import os\n",
    "os. getcwd()\n",
    "os.chdir('/Users/trevor.mattos/Desktop/nycdsa/Python/PythonProject1')\n"
   ]
  },
  {
   "cell_type": "markdown",
   "metadata": {},
   "source": [
    "#### Read in a 1 percent sample of the 26 million HMDA records\n",
    "code from: https://www.kaggle.com/questions-and-answers/53925"
   ]
  },
  {
   "cell_type": "code",
   "execution_count": 323,
   "metadata": {},
   "outputs": [],
   "source": [
    "# read in 1 percent sample\n",
    "df=pd.read_csv(\"2021_public_lar.csv\", \n",
    "               header=None,\n",
    "                    skiprows = lambda i: random.random() >0.01)"
   ]
  },
  {
   "cell_type": "code",
   "execution_count": 781,
   "metadata": {
    "scrolled": true
   },
   "outputs": [],
   "source": [
    "# read in a separate dataframe to get the headers\n",
    "df_cols = pd.read_csv(\"2021_public_lar.csv\", header=None, nrows = 1)\n",
    "# concatenate the new headers and the data\n",
    "df1=pd.concat([df_cols, df], axis = 0)\n",
    "# set first row as column headers and name df2\n",
    "df2=df1.rename(columns=df1.iloc[0]).drop(df1.index[0])"
   ]
  },
  {
   "cell_type": "markdown",
   "metadata": {},
   "source": [
    "### Data cleaning:"
   ]
  },
  {
   "cell_type": "code",
   "execution_count": 782,
   "metadata": {},
   "outputs": [],
   "source": [
    "# remove 'exempt' from property_value (assign np.nan)\n",
    "df2.loc[df2['property_value']=='Exempt', 'property_value']=np.nan\n",
    "\n",
    "# create binary variable for loan denied\n",
    "df2['denied']=np.where(df2['action_taken']==3,1,0)\n",
    "\n",
    "# recast loan amount as numeric\n",
    "df2['loan_amount']=pd.to_numeric(df2.loan_amount)\n",
    "\n",
    "#recast property_value as numeric\n",
    "df2['property_value']=pd.to_numeric(df2.property_value)\n",
    "\n",
    "#recast income to numeric and change metric to dollars (instead of thousands of dollars)\n",
    "df2['income']=pd.to_numeric(df2.income)\n",
    "df2['income']=df2['income']*1000 # put in thousands\n",
    "\n",
    "# recast interest rate and set exempt values to NA\n",
    "df2.loc[df2['interest_rate']=='Exempt', 'interest_rate']=np.nan\n",
    "df2['interest_rate']=pd.to_numeric(df2['interest_rate'])\n",
    "\n",
    "# recast total loan costs and set exempt values to NA\n",
    "df2.loc[df2['total_loan_costs']=='Exempt', 'total_loan_costs']=np.nan\n",
    "df2['total_loan_costs']=pd.to_numeric(df2['total_loan_costs'])\n",
    "\n",
    "# recast loan to value ratio as numeric\n",
    "df2.loc[df2['combined_loan_to_value_ratio']=='Exempt', 'combined_loan_to_value_ratio']=np.nan\n",
    "df2['combined_loan_to_value_ratio']= pd.to_numeric(df2['combined_loan_to_value_ratio'])\n",
    "\n",
    "# dummy var for single family home\n",
    "df2['singlefam']=np.where(df2['derived_dwelling_category']==('Single Family (1-4 Units):Site-Built' or 'Single Family (1-4 Units):Manufactured'),1,0)\n",
    "\n",
    "# recode occupancy type with meaninful string values\n",
    "df2['occupancy_type'] = df2['occupancy_type'].replace(\n",
    "    [1,2,3],['primary residence','second residence','investment property'])\n",
    "\n",
    "#remove free form race entries (drop these rows)\n",
    "df2 = df2[df2.derived_race != 'Free Form Text Only']\n",
    "\n",
    "#remove free form ethnicity entries (drop these rows)\n",
    "df2 = df2[df2.derived_ethnicity != 'Free Form Text Only']\n"
   ]
  },
  {
   "cell_type": "code",
   "execution_count": 836,
   "metadata": {
    "scrolled": true
   },
   "outputs": [],
   "source": [
    "# cross tabulate race and ethnicity to help in recoding\n",
    "#pd.crosstab(df2.derived_race, df2.derived_ethnicity, dropna=False)"
   ]
  },
  {
   "cell_type": "code",
   "execution_count": 807,
   "metadata": {},
   "outputs": [],
   "source": [
    "# create function to recode race and ethnicity into one merged variable\n",
    "def racegroups(df):\n",
    "    if (df['derived_race']=='White') and (df['derived_ethnicity'] =='Not Hispanic or Latino'):\n",
    "        return 'White'\n",
    "    elif ((df['derived_race']=='Race Not Available') and ((df['derived_ethnicity'] == 'Not Hispanic or Latino') or (df['derived_ethnicity'] == 'Ethnicity Not Available' ))) or (df['derived_ethnicity'] == 'Ethnicity Not Available'):\n",
    "        return 'Race or Ethnicity Not Available'\n",
    "    elif (df['derived_race']=='Black or African American') and (df['derived_ethnicity'] == 'Not Hispanic or Latino'):\n",
    "        return 'Black or African American'\n",
    "    elif ((df['derived_race']=='Asian') or (df['derived_race']=='Native Hawaiian or Other Pacific Islander'))  and (df['derived_ethnicity'] == 'Not Hispanic or Latino'):\n",
    "        return 'AAPI' \n",
    "    elif ((df['derived_race']=='Joint') or (df['derived_race']=='2 or more minority races')) and (df['derived_ethnicity'] == 'Not Hispanic or Latino'):\n",
    "        return 'Multiracial'\n",
    "    elif (df['derived_race']=='American Indian or Alaska Native') and (df['derived_ethnicity'] == 'Not Hispanic or Latino'):\n",
    "        return 'Native American'\n",
    "    elif (df['derived_ethnicity'] == 'Hispanic or Latino') or (df['derived_ethnicity'] == 'Joint') :\n",
    "        return 'Hispanic or Latino'\n",
    "    #elif (df['derived_ethnicity'] == 'Ethnicity Not Available'):\n",
    "        #return 'Ethnicity Not Available'\n",
    "    \n",
    "#use racegroups function to create newrace variable\n",
    "df2['newrace'] = df2.apply(racegroups, axis=1)"
   ]
  },
  {
   "cell_type": "code",
   "execution_count": 329,
   "metadata": {},
   "outputs": [],
   "source": [
    "# drop naN in loan_amount\n",
    "#df2['property_value'] = df2[df2['property_value'].notna()]\n",
    "#df2['property_value']=df2.property_value.astype(int)\n",
    "#df2.property_value\n",
    "#df2.loan_amount"
   ]
  },
  {
   "cell_type": "code",
   "execution_count": null,
   "metadata": {},
   "outputs": [],
   "source": [
    "# remove outliers from loan amount\n",
    "#df3 = df2[(df2['loan_amount'] <= df2['loan_amount'].mean()+(3*(df2['loan_amount'])))]"
   ]
  },
  {
   "cell_type": "code",
   "execution_count": 783,
   "metadata": {},
   "outputs": [
    {
     "data": {
      "text/plain": [
       "30%-39%     49747\n",
       "40%-49%     48905\n",
       "20%-<30%    35783\n",
       "<20%        16927\n",
       "50%-60%      8700\n",
       ">60%         6484\n",
       "Exempt       3562\n",
       "Name: debt_to_income_ratio, dtype: int64"
      ]
     },
     "execution_count": 783,
     "metadata": {},
     "output_type": "execute_result"
    }
   ],
   "source": [
    "#recode debt_to_income_ratio so that groupings are somewhat comparable\n",
    "# bucket all 30-39%\n",
    "df2['debt_to_income_ratio'].replace('^3.*','30%-39%', regex=True, inplace=True)\n",
    "# bucket all 40-49%\n",
    "df2['debt_to_income_ratio'].replace('^4.*','40%-49%', regex=True, inplace=True)\n",
    "df2['debt_to_income_ratio'].value_counts()"
   ]
  },
  {
   "cell_type": "markdown",
   "metadata": {},
   "source": [
    "### Data exploration and visualization:"
   ]
  },
  {
   "cell_type": "code",
   "execution_count": 842,
   "metadata": {
    "scrolled": true
   },
   "outputs": [],
   "source": [
    "#df2.groupby('newrace').agg({'income': 'median', 'denied': 'mean'})"
   ]
  },
  {
   "cell_type": "code",
   "execution_count": 831,
   "metadata": {
    "scrolled": false
   },
   "outputs": [],
   "source": [
    "#plt.hist(df2['loan_amount'], log=True, bins=250, color=\"#5ee3ff\")\n",
    "#plt.title('loan_amount', fontsize = 20)"
   ]
  },
  {
   "cell_type": "code",
   "execution_count": 832,
   "metadata": {},
   "outputs": [],
   "source": [
    "#plt.hist(np.log(df2['property_value']), bins=200, color=\"#5ee3ff\")\n",
    "#plt.title('property value', fontsize = 20)\n",
    "#plt.xlim( [ 0, 10000000 ] )\n",
    "\n",
    "\n",
    "#plt.hist(np.log(df['budget'].dropna()), bins = 100, color = \"#5ee3ff\")\n"
   ]
  },
  {
   "cell_type": "code",
   "execution_count": 833,
   "metadata": {
    "scrolled": true
   },
   "outputs": [],
   "source": [
    "\n",
    "#df2.plot(kind = 'scatter',x = 'loan_amount', y = 'income', alpha=.3)\n",
    "\n",
    "#plt.xlabel('loan amount')\n",
    "#plt.ylabel('income')\n",
    "#plt.title('loan vs income')"
   ]
  },
  {
   "cell_type": "code",
   "execution_count": null,
   "metadata": {},
   "outputs": [],
   "source": [
    "# begin with some overview stuff\n",
    "\n",
    "    # What is the total number of loan transactions? \n",
    "    # Roughly what percentage of all loans does the dataset include? \n",
    "    # What is the distribution by type of dwelling? Use the sample.\n",
    "    # occupancy_type (dwelling, rented, etc)\n",
    "    # What are the race, sex, ethnicity distributions of applicants?\n",
    "    # Overall, what are the share of applicants by action taken?\n",
    "    # Interesting question: is there a correlation between those who request preapproval and those who are approved?\n",
    "    # Distribution of loan amount\n",
    "    # Median loan amount by race, gender, ethnicity\n",
    "    # Average interest rate by race, gender, ethnicity \n",
    "    # HOEPA status by race, gender, ethnicity\n",
    "    # Total loan costs by race, gender, ethnicity\n",
    "    # property value by race, gender, ethnicity\n",
    "    # income and debt to income ratio\n",
    "    #combined loan to value ratio\n",
    "    # denial reasons by race, gender, ethnicity"
   ]
  },
  {
   "cell_type": "code",
   "execution_count": 834,
   "metadata": {
    "scrolled": true
   },
   "outputs": [
    {
     "data": {
      "text/plain": [
       "10      227776\n",
       "1         8348\n",
       "3         7355\n",
       "7         4477\n",
       "4         3487\n",
       "9         3037\n",
       "1111      2809\n",
       "6         1548\n",
       "5          622\n",
       "2          449\n",
       "8           11\n",
       "Name: denial_reason_1, dtype: int64"
      ]
     },
     "execution_count": 834,
     "metadata": {},
     "output_type": "execute_result"
    }
   ],
   "source": [
    "# examine data and check data types\n",
    "\n",
    "df2['derived_dwelling_category'].value_counts()\n",
    "df2['occupancy_type'].value_counts()\n",
    "df2['derived_sex'].value_counts()\n",
    "df2['derived_ethnicity'].value_counts()\n",
    "df2['derived_race'].value_counts()\n",
    "df2['loan_amount'] # currently an integer\n",
    "df2['interest_rate'] # currently float\n",
    "df2['hoepa_status'].value_counts()\n",
    "df2['total_loan_costs'] # currently a float\n",
    "df2['property_value']\n",
    "df2['debt_to_income_ratio']\n",
    "df2['income']\n",
    "df2['denial_reason_1'].value_counts() # code 1111 is exempt, per https://files.consumerfinance.gov/f/documents/201710_cfpb_reportable-hmda-data_regulatory-and-reporting-overview-reference-chart.pdf\n"
   ]
  },
  {
   "cell_type": "markdown",
   "metadata": {},
   "source": [
    "### Consider using plotly for final visualizations to improve final blog aesthetics"
   ]
  },
  {
   "cell_type": "code",
   "execution_count": 584,
   "metadata": {},
   "outputs": [],
   "source": [
    "# plotly graphs\n"
   ]
  },
  {
   "cell_type": "code",
   "execution_count": 748,
   "metadata": {
    "scrolled": true
   },
   "outputs": [],
   "source": []
  },
  {
   "cell_type": "code",
   "execution_count": 835,
   "metadata": {},
   "outputs": [],
   "source": [
    "# df2['newrace'].value_counts().sort_values(ascending=False).plot.bar()\n",
    "# plt.xlabel('Race of loan applicant')\n",
    "# plt.ylabel('Count')\n",
    "# plt.title('Loan application by race')"
   ]
  },
  {
   "cell_type": "code",
   "execution_count": 811,
   "metadata": {},
   "outputs": [
    {
     "data": {
      "text/plain": [
       "Text(0.5, 1.0, 'Loan application by occupancy type')"
      ]
     },
     "execution_count": 811,
     "metadata": {},
     "output_type": "execute_result"
    },
    {
     "data": {
      "image/png": "[encoded data removed]",
      "text/plain": [
       "<Figure size 432x288 with 1 Axes>"
      ]
     },
     "metadata": {
      "needs_background": "light"
     },
     "output_type": "display_data"
    }
   ],
   "source": [
    "df2['occupancy_type'].value_counts().sort_values(ascending=False).plot.bar()\n",
    "plt.xlabel('Occupancy type')\n",
    "plt.ylabel('Count')\n",
    "plt.title('Loan application by occupancy type')"
   ]
  },
  {
   "cell_type": "code",
   "execution_count": 812,
   "metadata": {},
   "outputs": [
    {
     "data": {
      "text/plain": [
       "<matplotlib.axes._subplots.AxesSubplot at 0x7fec62939be0>"
      ]
     },
     "execution_count": 812,
     "metadata": {},
     "output_type": "execute_result"
    },
    {
     "data": {
      "image/png": "[encoded data removed]",
      "text/plain": [
       "<Figure size 432x288 with 1 Axes>"
      ]
     },
     "metadata": {
      "needs_background": "light"
     },
     "output_type": "display_data"
    }
   ],
   "source": [
    "df2['total_units'].value_counts().sort_values(ascending=False).plot.bar()"
   ]
  },
  {
   "cell_type": "code",
   "execution_count": null,
   "metadata": {},
   "outputs": [],
   "source": []
  },
  {
   "cell_type": "code",
   "execution_count": 844,
   "metadata": {},
   "outputs": [],
   "source": [
    "# calculate share of applicants by race and plot in next cell\n",
    "racedf=df2.groupby('newrace')[['newrace']].agg('count')/(df2.derived_race.count())*100\n",
    "racedf=racedf.rename(columns={'newrace':'raceshare'})\n"
   ]
  },
  {
   "cell_type": "code",
   "execution_count": 825,
   "metadata": {},
   "outputs": [
    {
     "data": {
      "image/png": "[encoded data removed]",
      "text/plain": [
       "<Figure size 864x432 with 1 Axes>"
      ]
     },
     "metadata": {
      "needs_background": "light"
     },
     "output_type": "display_data"
    }
   ],
   "source": [
    "plt.figure(figsize = (12,6))\n",
    "racedf['raceshare'].sort_values(ascending=True).plot.barh()\n",
    "plt.xlabel('Share (%) of loan applications', fontsize=18)\n",
    "plt.ylabel('Racial group', fontsize=18)\n",
    "plt.title('Loan applications by racial group', fontsize=26)\n",
    "\n",
    "plt.tight_layout()\n",
    "plt.savefig(\"graph1.jpg\", dpi=250)"
   ]
  },
  {
   "cell_type": "code",
   "execution_count": 845,
   "metadata": {},
   "outputs": [
    {
     "data": {
      "text/plain": [
       "<matplotlib.axes._subplots.AxesSubplot at 0x7fec4d9382e0>"
      ]
     },
     "execution_count": 845,
     "metadata": {},
     "output_type": "execute_result"
    },
    {
     "data": {
      "image/png": "[encoded data removed]",
      "text/plain": [
       "<Figure size 432x288 with 1 Axes>"
      ]
     },
     "metadata": {
      "needs_background": "light"
     },
     "output_type": "display_data"
    }
   ],
   "source": [
    "df2.groupby('newrace')['denied'].mean().sort_values(ascending=False).plot.bar()"
   ]
  },
  {
   "cell_type": "code",
   "execution_count": null,
   "metadata": {},
   "outputs": [],
   "source": [
    "\n"
   ]
  }
 ],
 "metadata": {
  "kernelspec": {
   "display_name": "Python 3",
   "language": "python",
   "name": "python3"
  },
  "language_info": {
   "codemirror_mode": {
    "name": "ipython",
    "version": 3
   },
   "file_extension": ".py",
   "mimetype": "text/x-python",
   "name": "python",
   "nbconvert_exporter": "python",
   "pygments_lexer": "ipython3",
   "version": "3.8.3"
  }
 },
 "nbformat": 4,
 "nbformat_minor": 4
}
